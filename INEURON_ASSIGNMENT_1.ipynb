{
  "nbformat": 4,
  "nbformat_minor": 0,
  "metadata": {
    "kernelspec": {
      "display_name": "Python 3",
      "language": "python",
      "name": "python3"
    },
    "language_info": {
      "codemirror_mode": {
        "name": "ipython",
        "version": 3
      },
      "file_extension": ".py",
      "mimetype": "text/x-python",
      "name": "python",
      "nbconvert_exporter": "python",
      "pygments_lexer": "ipython3",
      "version": "3.7.6"
    },
    "colab": {
      "name": "Copy of INEURON_ASSIGNMENT.ipynb",
      "provenance": [],
      "include_colab_link": true
    }
  },
  "cells": [
    {
      "cell_type": "markdown",
      "metadata": {
        "id": "view-in-github",
        "colab_type": "text"
      },
      "source": [
        "<a href=\"https://colab.research.google.com/github/sajjushaik/python/blob/master/INEURON_ASSIGNMENT_1.ipynb\" target=\"_parent\"><img src=\"https://colab.research.google.com/assets/colab-badge.svg\" alt=\"Open In Colab\"/></a>"
      ]
    },
    {
      "cell_type": "markdown",
      "metadata": {
        "id": "jv8o0oOL7M1a",
        "colab_type": "text"
      },
      "source": [
        "# Task 1\n",
        "\n",
        "## 1.Install Jupyter notebook and run the first program and share the screenshot of the output. "
      ]
    },
    {
      "cell_type": "code",
      "metadata": {
        "id": "laUgyQ8j7M1d",
        "colab_type": "code",
        "colab": {}
      },
      "source": [
        "x=int(input(\"enter number :\"))\n",
        "y=x*x\n",
        "print(\"square of \"+str(x)+\":\",y)"
      ],
      "execution_count": 0,
      "outputs": []
    },
    {
      "cell_type": "markdown",
      "metadata": {
        "id": "P8KGrqyv7M1k",
        "colab_type": "text"
      },
      "source": [
        "## 2.Write a program which will find all such numbers which are divisible by 7 but are not a multiple of 5, between 2000 and 3200 (both included). The numbers obtained should be printed in a comma-separated sequence on a single line. "
      ]
    },
    {
      "cell_type": "code",
      "metadata": {
        "id": "PeqF5Vo27M1l",
        "colab_type": "code",
        "colab": {}
      },
      "source": [
        "range1=2000\n",
        "range2=3200\n",
        "for i in range(range1,range2+1):\n",
        "    if((i % 7==0 ) and(i%5!=0)):\n",
        "        print(i,end=' ')"
      ],
      "execution_count": 0,
      "outputs": []
    },
    {
      "cell_type": "markdown",
      "metadata": {
        "id": "vOk0ncAE7M1r",
        "colab_type": "text"
      },
      "source": [
        "## 3. Write a Python program to accept the user's first and last name and then getting them printed in the the reverse order with a space between first name and last name. \n",
        " \n",
        " "
      ]
    },
    {
      "cell_type": "code",
      "metadata": {
        "id": "Qpgz4Wxz7M1s",
        "colab_type": "code",
        "colab": {}
      },
      "source": [
        "fname=input(\"ENTER FIRST NAME : \")\n",
        "lname=input(\"ENTER LAST NAME : \")\n",
        "print (\"Hello  \" + lname + \" \" + fname)"
      ],
      "execution_count": 0,
      "outputs": []
    },
    {
      "cell_type": "markdown",
      "metadata": {
        "id": "vKtUZ6Qu7M1z",
        "colab_type": "text"
      },
      "source": [
        "## 4.Write a Python program to find the volume of a sphere with diameter 12 cm  \n",
        ".  Formula: V=4/3 * π * r 3 "
      ]
    },
    {
      "cell_type": "code",
      "metadata": {
        "id": "oB8PfpwJ7M11",
        "colab_type": "code",
        "colab": {}
      },
      "source": [
        "d=12\n",
        "r=d/2\n",
        "v=(4/3)*3.14*(r**3)\n",
        "print(\"VOLUME OF SPHERE : \",v)"
      ],
      "execution_count": 0,
      "outputs": []
    },
    {
      "cell_type": "markdown",
      "metadata": {
        "id": "MhAw9s6H7M16",
        "colab_type": "text"
      },
      "source": [
        "# Task 2\n",
        "\n",
        "## 1. Write a program which accepts a sequence of comma-separated numbers from console and generate a list. \n"
      ]
    },
    {
      "cell_type": "code",
      "metadata": {
        "id": "TN8OgTJ87M16",
        "colab_type": "code",
        "colab": {}
      },
      "source": [
        "inp=input(\"ENTER INPUT : \")\n",
        "l=list(inp.split(\",\"))\n",
        "print(l)"
      ],
      "execution_count": 0,
      "outputs": []
    },
    {
      "cell_type": "markdown",
      "metadata": {
        "id": "sks5oD3K7M1_",
        "colab_type": "text"
      },
      "source": [
        "## 2.  Create the below pattern using nested for loop in Python. \n"
      ]
    },
    {
      "cell_type": "markdown",
      "metadata": {
        "id": "Mui8mrKH7M2A",
        "colab_type": "raw"
      },
      "source": [
        "*\n",
        "* *\n",
        "* * *\n",
        "* * * * \n",
        "* * * * *\n",
        "* * * *\n",
        "* * *\n",
        "* *\n",
        "* "
      ]
    },
    {
      "cell_type": "code",
      "metadata": {
        "id": "U8qLAmUs7M2A",
        "colab_type": "code",
        "colab": {}
      },
      "source": [
        "for i in range(0,5):\n",
        "    for j in range(0,5):\n",
        "        if(i>=j):\n",
        "            print(\"*\",end=\" \")\n",
        "            \n",
        "    print(\"\\n\")\n",
        "for i in range(0,4):\n",
        "    for j in range(0,4):\n",
        "        if(i<=j):\n",
        "            print(\"*\",end=\" \")\n",
        "    print(\"\\n\")"
      ],
      "execution_count": 0,
      "outputs": []
    },
    {
      "cell_type": "markdown",
      "metadata": {
        "id": "Wg3XAVCo7M2G",
        "colab_type": "text"
      },
      "source": [
        "## 3.Write a Python program to reverse a word after accepting the input from the user. \n",
        " \n",
        "Sample Output: \n",
        " \n",
        "Input word: AcadGild \n",
        " \n",
        "Output: dilGdacA \n",
        " \n",
        " "
      ]
    },
    {
      "cell_type": "code",
      "metadata": {
        "id": "-OA3xRwa7M2H",
        "colab_type": "code",
        "colab": {}
      },
      "source": [
        "inp=input(\"input word : \")\n",
        "rev=inp[::-1]\n",
        "print(\"oputput :\",rev)"
      ],
      "execution_count": 0,
      "outputs": []
    },
    {
      "cell_type": "markdown",
      "metadata": {
        "id": "xnQ7C8bA7M2K",
        "colab_type": "text"
      },
      "source": [
        "# 4.Write a Python Program to print the given string in the format specified in the ​sample output. \n",
        " WE, THE PEOPLE OF INDIA, having solemnly resolved to constitute India into a SOVEREIGN, SOCIALIST, SECULAR, DEMOCRATIC REPUBLIC and to secure to all its citizens \n",
        " \n",
        "Sample Output: \n",
        " \n",
        "WE, THE PEOPLE OF INDIA,   having solemnly resolved to constitute India into a SOVEREIGN, !  SOCIALIST, SECULAR, DEMOCRATIC REPUBLIC    and to secure to all its citizens "
      ]
    },
    {
      "cell_type": "code",
      "metadata": {
        "id": "Ps_8OzNq7M2L",
        "colab_type": "code",
        "outputId": "3a812999-61bf-4f25-ec67-9bc295292093",
        "colab": {}
      },
      "source": [
        "inp=input()\n",
        "l=list(inp.split(\",\"))\n",
        "l1=[]\n",
        "for i in l:\n",
        "    if i ==\" SOCIALIST\":\n",
        "    \n",
        "        l1.append(\"!\"+i)\n",
        "    else:\n",
        "        l1.append(i)\n",
        "print(l1)"
      ],
      "execution_count": 0,
      "outputs": [
        {
          "output_type": "stream",
          "text": [
            "WE, THE PEOPLE OF INDIA, having solemnly resolved to constitute India into a SOVEREIGN, SOCIALIST, SECULAR, DEMOCRATIC REPUBLIC and to secure to all its citizens \n",
            "['WE', ' THE PEOPLE OF INDIA', ' having solemnly resolved to constitute India into a SOVEREIGN', '! SOCIALIST', ' SECULAR', ' DEMOCRATIC REPUBLIC and to secure to all its citizens ']\n"
          ],
          "name": "stdout"
        }
      ]
    },
    {
      "cell_type": "code",
      "metadata": {
        "id": "FpAK5Iix7M2Q",
        "colab_type": "code",
        "colab": {}
      },
      "source": [
        ""
      ],
      "execution_count": 0,
      "outputs": []
    }
  ]
}