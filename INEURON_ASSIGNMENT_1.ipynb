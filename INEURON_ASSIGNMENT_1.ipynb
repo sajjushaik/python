{
  "nbformat": 4,
  "nbformat_minor": 0,
  "metadata": {
    "kernelspec": {
      "display_name": "Python 3",
      "language": "python",
      "name": "python3"
    },
    "language_info": {
      "codemirror_mode": {
        "name": "ipython",
        "version": 3
      },
      "file_extension": ".py",
      "mimetype": "text/x-python",
      "name": "python",
      "nbconvert_exporter": "python",
      "pygments_lexer": "ipython3",
      "version": "3.7.6"
    },
    "colab": {
      "name": "Copy of INEURON_ASSIGNMENT.ipynb",
      "provenance": [],
      "include_colab_link": true
    }
  },
  "cells": [
    {
      "cell_type": "markdown",
      "metadata": {
        "id": "view-in-github",
        "colab_type": "text"
      },
      "source": [
        "<a href=\"https://colab.research.google.com/github/sajjushaik/python/blob/master/INEURON_ASSIGNMENT_1.ipynb\" target=\"_parent\"><img src=\"https://colab.research.google.com/assets/colab-badge.svg\" alt=\"Open In Colab\"/></a>"
      ]
    },
    {
      "cell_type": "markdown",
      "metadata": {
        "id": "jv8o0oOL7M1a",
        "colab_type": "text"
      },
      "source": [
        "# Task 1\n",
        "\n",
        "## 1.Install Jupyter notebook and run the first program and share the screenshot of the output. "
      ]
    },
    {
      "cell_type": "code",
      "metadata": {
        "id": "laUgyQ8j7M1d",
        "colab_type": "code",
        "colab": {
          "base_uri": "https://localhost:8080/",
          "height": 51
        },
        "outputId": "e3460059-eb46-4adc-fd47-49a19e66cf0a"
      },
      "source": [
        "x=int(input(\"enter number :\"))\n",
        "y=x*x\n",
        "print(\"square of \"+str(x)+\":\",y)"
      ],
      "execution_count": 1,
      "outputs": [
        {
          "output_type": "stream",
          "text": [
            "enter number :10\n",
            "square of 10: 100\n"
          ],
          "name": "stdout"
        }
      ]
    },
    {
      "cell_type": "markdown",
      "metadata": {
        "id": "P8KGrqyv7M1k",
        "colab_type": "text"
      },
      "source": [
        "## 2.Write a program which will find all such numbers which are divisible by 7 but are not a multiple of 5, between 2000 and 3200 (both included). The numbers obtained should be printed in a comma-separated sequence on a single line. "
      ]
    },
    {
      "cell_type": "code",
      "metadata": {
        "id": "PeqF5Vo27M1l",
        "colab_type": "code",
        "colab": {
          "base_uri": "https://localhost:8080/",
          "height": 54
        },
        "outputId": "645021c5-80b7-4c1b-bfe8-f9a331a63890"
      },
      "source": [
        "range1=2000\n",
        "range2=3200\n",
        "for i in range(range1,range2+1):\n",
        "    if((i % 7==0 ) and(i%5!=0)):\n",
        "        print(i,end=' ')"
      ],
      "execution_count": 2,
      "outputs": [
        {
          "output_type": "stream",
          "text": [
            "2002 2009 2016 2023 2037 2044 2051 2058 2072 2079 2086 2093 2107 2114 2121 2128 2142 2149 2156 2163 2177 2184 2191 2198 2212 2219 2226 2233 2247 2254 2261 2268 2282 2289 2296 2303 2317 2324 2331 2338 2352 2359 2366 2373 2387 2394 2401 2408 2422 2429 2436 2443 2457 2464 2471 2478 2492 2499 2506 2513 2527 2534 2541 2548 2562 2569 2576 2583 2597 2604 2611 2618 2632 2639 2646 2653 2667 2674 2681 2688 2702 2709 2716 2723 2737 2744 2751 2758 2772 2779 2786 2793 2807 2814 2821 2828 2842 2849 2856 2863 2877 2884 2891 2898 2912 2919 2926 2933 2947 2954 2961 2968 2982 2989 2996 3003 3017 3024 3031 3038 3052 3059 3066 3073 3087 3094 3101 3108 3122 3129 3136 3143 3157 3164 3171 3178 3192 3199 "
          ],
          "name": "stdout"
        }
      ]
    },
    {
      "cell_type": "markdown",
      "metadata": {
        "id": "vOk0ncAE7M1r",
        "colab_type": "text"
      },
      "source": [
        "## 3. Write a Python program to accept the user's first and last name and then getting them printed in the the reverse order with a space between first name and last name. \n",
        " \n",
        " "
      ]
    },
    {
      "cell_type": "code",
      "metadata": {
        "id": "Qpgz4Wxz7M1s",
        "colab_type": "code",
        "colab": {
          "base_uri": "https://localhost:8080/",
          "height": 68
        },
        "outputId": "95c4cb05-e27f-42c4-bc5f-923811b9fae5"
      },
      "source": [
        "fname=input(\"ENTER FIRST NAME : \")\n",
        "lname=input(\"ENTER LAST NAME : \")\n",
        "print (\"Hello  \" + lname + \" \" + fname)"
      ],
      "execution_count": 3,
      "outputs": [
        {
          "output_type": "stream",
          "text": [
            "ENTER FIRST NAME : hari\n",
            "ENTER LAST NAME : krishna\n",
            "Hello  krishna hari\n"
          ],
          "name": "stdout"
        }
      ]
    },
    {
      "cell_type": "markdown",
      "metadata": {
        "id": "vKtUZ6Qu7M1z",
        "colab_type": "text"
      },
      "source": [
        "## 4.Write a Python program to find the volume of a sphere with diameter 12 cm  \n",
        ".  Formula: V=4/3 * π * r 3 "
      ]
    },
    {
      "cell_type": "code",
      "metadata": {
        "id": "oB8PfpwJ7M11",
        "colab_type": "code",
        "colab": {
          "base_uri": "https://localhost:8080/",
          "height": 34
        },
        "outputId": "5eaa5bda-cec1-438e-9ac7-bebb3fb0ecd2"
      },
      "source": [
        "d=12\n",
        "r=d/2\n",
        "v=(4/3)*3.14*(r**3)\n",
        "print(\"VOLUME OF SPHERE : \",v)"
      ],
      "execution_count": 4,
      "outputs": [
        {
          "output_type": "stream",
          "text": [
            "VOLUME OF SPHERE :  904.3199999999999\n"
          ],
          "name": "stdout"
        }
      ]
    },
    {
      "cell_type": "markdown",
      "metadata": {
        "id": "MhAw9s6H7M16",
        "colab_type": "text"
      },
      "source": [
        "# Task 2\n",
        "\n",
        "## 1. Write a program which accepts a sequence of comma-separated numbers from console and generate a list. \n"
      ]
    },
    {
      "cell_type": "code",
      "metadata": {
        "id": "TN8OgTJ87M16",
        "colab_type": "code",
        "colab": {
          "base_uri": "https://localhost:8080/",
          "height": 51
        },
        "outputId": "232f8c0e-8ba1-4e61-805e-b8a0dd44c39d"
      },
      "source": [
        "inp=input(\"ENTER INPUT : \")\n",
        "l=list(inp.split(\",\"))\n",
        "print(l)"
      ],
      "execution_count": 5,
      "outputs": [
        {
          "output_type": "stream",
          "text": [
            "ENTER INPUT : 1,2,3,hari,8,kali\n",
            "['1', '2', '3', 'hari', '8', 'kali']\n"
          ],
          "name": "stdout"
        }
      ]
    },
    {
      "cell_type": "markdown",
      "metadata": {
        "id": "sks5oD3K7M1_",
        "colab_type": "text"
      },
      "source": [
        "## 2.  Create the below pattern using nested for loop in Python. \n"
      ]
    },
    {
      "cell_type": "markdown",
      "metadata": {
        "id": "Mui8mrKH7M2A",
        "colab_type": "raw"
      },
      "source": [
        "*\n",
        "* *\n",
        "* * *\n",
        "* * * * \n",
        "* * * * *\n",
        "* * * *\n",
        "* * *\n",
        "* *\n",
        "* "
      ]
    },
    {
      "cell_type": "code",
      "metadata": {
        "id": "U8qLAmUs7M2A",
        "colab_type": "code",
        "colab": {
          "base_uri": "https://localhost:8080/",
          "height": 323
        },
        "outputId": "ea9c2d92-1708-441c-cf1c-5dfd7dc5d7ff"
      },
      "source": [
        "for i in range(0,5):\n",
        "    for j in range(0,5):\n",
        "        if(i>=j):\n",
        "            print(\"*\",end=\" \")\n",
        "            \n",
        "    print(\"\\n\")\n",
        "for i in range(0,4):\n",
        "    for j in range(0,4):\n",
        "        if(i<=j):\n",
        "            print(\"*\",end=\" \")\n",
        "    print(\"\\n\")"
      ],
      "execution_count": 6,
      "outputs": [
        {
          "output_type": "stream",
          "text": [
            "* \n",
            "\n",
            "* * \n",
            "\n",
            "* * * \n",
            "\n",
            "* * * * \n",
            "\n",
            "* * * * * \n",
            "\n",
            "* * * * \n",
            "\n",
            "* * * \n",
            "\n",
            "* * \n",
            "\n",
            "* \n",
            "\n"
          ],
          "name": "stdout"
        }
      ]
    },
    {
      "cell_type": "markdown",
      "metadata": {
        "id": "Wg3XAVCo7M2G",
        "colab_type": "text"
      },
      "source": [
        "## 3.Write a Python program to reverse a word after accepting the input from the user. \n",
        " \n",
        "Sample Output: \n",
        " \n",
        "Input word: AcadGild \n",
        " \n",
        "Output: dilGdacA \n",
        " \n",
        " "
      ]
    },
    {
      "cell_type": "code",
      "metadata": {
        "id": "-OA3xRwa7M2H",
        "colab_type": "code",
        "colab": {
          "base_uri": "https://localhost:8080/",
          "height": 51
        },
        "outputId": "d7064ab6-223b-4f3e-816e-42c86adc4026"
      },
      "source": [
        "inp=input(\"input word : \")\n",
        "rev=inp[::-1]\n",
        "print(\"oputput :\",rev)"
      ],
      "execution_count": 7,
      "outputs": [
        {
          "output_type": "stream",
          "text": [
            "input word : AcadGild\n",
            "oputput : dliGdacA\n"
          ],
          "name": "stdout"
        }
      ]
    },
    {
      "cell_type": "markdown",
      "metadata": {
        "id": "xnQ7C8bA7M2K",
        "colab_type": "text"
      },
      "source": [
        "# 4.Write a Python Program to print the given string in the format specified in the ​sample output. \n",
        " WE, THE PEOPLE OF INDIA, having solemnly resolved to constitute India into a SOVEREIGN, SOCIALIST, SECULAR, DEMOCRATIC REPUBLIC and to secure to all its citizens \n",
        " \n",
        "Sample Output: \n",
        " \n",
        "WE, THE PEOPLE OF INDIA,   having solemnly resolved to constitute India into a SOVEREIGN, !  SOCIALIST, SECULAR, DEMOCRATIC REPUBLIC    and to secure to all its citizens "
      ]
    },
    {
      "cell_type": "code",
      "metadata": {
        "id": "Ps_8OzNq7M2L",
        "colab_type": "code",
        "outputId": "2d9aff96-cceb-4bb3-9710-06448c5d05e9",
        "colab": {
          "base_uri": "https://localhost:8080/",
          "height": 71
        }
      },
      "source": [
        "inp=input()\n",
        "l=list(inp.split(\",\"))\n",
        "l1=[]\n",
        "for i in l:\n",
        "    if i ==\" SOCIALIST\":\n",
        "    \n",
        "        l1.append(\"!\"+i)\n",
        "    else:\n",
        "        l1.append(i)\n",
        "print(l1)"
      ],
      "execution_count": 8,
      "outputs": [
        {
          "output_type": "stream",
          "text": [
            "WE, THE PEOPLE OF INDIA, having solemnly resolved to constitute India into a SOVEREIGN, SOCIALIST, SECULAR, DEMOCRATIC REPUBLIC and to secure to all its citizens\n",
            "['WE', ' THE PEOPLE OF INDIA', ' having solemnly resolved to constitute India into a SOVEREIGN', '! SOCIALIST', ' SECULAR', ' DEMOCRATIC REPUBLIC and to secure to all its citizens']\n"
          ],
          "name": "stdout"
        }
      ]
    },
    {
      "cell_type": "code",
      "metadata": {
        "id": "FpAK5Iix7M2Q",
        "colab_type": "code",
        "colab": {}
      },
      "source": [
        ""
      ],
      "execution_count": 0,
      "outputs": []
    }
  ]
}